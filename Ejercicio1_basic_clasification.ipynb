{
  "cells": [
    {
      "cell_type": "markdown",
      "metadata": {
        "id": "view-in-github",
        "colab_type": "text"
      },
      "source": [
        "<a href=\"https://colab.research.google.com/github/Miguelucho-M/eda_couse/blob/20241/Ejercicio1_basic_clasification.ipynb\" target=\"_parent\"><img src=\"https://colab.research.google.com/assets/colab-badge.svg\" alt=\"Open In Colab\"/></a>"
      ]
    },
    {
      "cell_type": "code",
      "execution_count": 12,
      "metadata": {
        "id": "rJdwHr3UnJll"
      },
      "outputs": [],
      "source": [
        "# Importar bibliotecas necesarias\n",
        "import pandas as pd #importar el paquete de panda\n",
        "from sklearn.model_selection import train_test_split\n",
        "from sklearn.ensemble import RandomForestClassifier #algoritmo que se va a usar\n",
        "from sklearn.metrics import accuracy_score, classification_report, confusion_matrix #métricas para evaluar el modelo\n",
        "import matplotlib.pyplot as plt #visualización de los datos\n",
        "import seaborn as sns #libraría para gráficos\n",
        "\n",
        "# Paso 1: Cargar el archivo CSV\n",
        "ruta_archivo = 'https://raw.githubusercontent.com/armandoordonez/eda_couse/main/data/prediccion_prestamo_train.csv'  # Reemplaza con la ruta de tu archivo CSV\n",
        "data = pd.read_csv(ruta_archivo)"
      ]
    },
    {
      "cell_type": "markdown",
      "metadata": {
        "id": "Z8bcOexvkh3C"
      },
      "source": []
    },
    {
      "cell_type": "markdown",
      "metadata": {
        "id": "9y3ZjPBbkh5t"
      },
      "source": []
    },
    {
      "cell_type": "code",
      "execution_count": 13,
      "metadata": {
        "colab": {
          "base_uri": "https://localhost:8080/"
        },
        "id": "T3PObNqLpOgz",
        "outputId": "3f676f5c-3d9d-414e-88fd-8f57bc57bb3c"
      },
      "outputs": [
        {
          "output_type": "stream",
          "name": "stdout",
          "text": [
            "Información del conjunto de datos:\n",
            "<class 'pandas.core.frame.DataFrame'>\n",
            "RangeIndex: 614 entries, 0 to 613\n",
            "Data columns (total 13 columns):\n",
            " #   Column                   Non-Null Count  Dtype  \n",
            "---  ------                   --------------  -----  \n",
            " 0   ID                       614 non-null    object \n",
            " 1   Genero                   601 non-null    object \n",
            " 2   Married                  611 non-null    object \n",
            " 3   dependientes             599 non-null    object \n",
            " 4    educacion               614 non-null    object \n",
            " 5    autoempleado            582 non-null    object \n",
            " 6    ingresos_solicitante    614 non-null    int64  \n",
            " 7    ingresos_cosolicitante  614 non-null    float64\n",
            " 8    monto_prestamo          592 non-null    float64\n",
            " 9    plazo_prestamo          600 non-null    float64\n",
            " 10   historial_crediticio    564 non-null    float64\n",
            " 11   area_propiedad          614 non-null    object \n",
            " 12   estado_prestamo         614 non-null    object \n",
            "dtypes: float64(4), int64(1), object(8)\n",
            "memory usage: 62.5+ KB\n",
            "None\n",
            "\n",
            "Estadísticas descriptivas:\n",
            "        ingresos_solicitante   ingresos_cosolicitante   monto_prestamo  \\\n",
            "count             614.000000               614.000000       592.000000   \n",
            "mean             5403.459283              1621.245798       146.412162   \n",
            "std              6109.041673              2926.248369        85.587325   \n",
            "min               150.000000                 0.000000         9.000000   \n",
            "25%              2877.500000                 0.000000       100.000000   \n",
            "50%              3812.500000              1188.500000       128.000000   \n",
            "75%              5795.000000              2297.250000       168.000000   \n",
            "max             81000.000000             41667.000000       700.000000   \n",
            "\n",
            "        plazo_prestamo   historial_crediticio  \n",
            "count        600.00000             564.000000  \n",
            "mean         342.00000               0.842199  \n",
            "std           65.12041               0.364878  \n",
            "min           12.00000               0.000000  \n",
            "25%          360.00000               1.000000  \n",
            "50%          360.00000               1.000000  \n",
            "75%          360.00000               1.000000  \n",
            "max          480.00000               1.000000  \n"
          ]
        }
      ],
      "source": [
        "# Paso 2: Análisis Exploratorio\n",
        "# Puedes imprimir información básica sobre el conjunto de datos\n",
        "print(\"Información del conjunto de datos:\")\n",
        "print(data.info())\n",
        "\n",
        "# Mostrar estadísticas descriptivas\n",
        "print(\"\\nEstadísticas descriptivas:\")\n",
        "print(data.describe())"
      ]
    },
    {
      "cell_type": "code",
      "execution_count": 14,
      "metadata": {
        "id": "F8j_-Hv1Iv79"
      },
      "outputs": [],
      "source": [
        "data = data.dropna() #limpiar lo nulos (no es la forma mas prolija pero es una forma de hacerlo)"
      ]
    },
    {
      "cell_type": "code",
      "execution_count": null,
      "metadata": {
        "colab": {
          "base_uri": "https://localhost:8080/"
        },
        "id": "GhOnZBblI5-L",
        "outputId": "8d29043d-21c2-41e8-f690-eae1b93e13e7"
      },
      "outputs": [
        {
          "name": "stdout",
          "output_type": "stream",
          "text": [
            "<class 'pandas.core.frame.DataFrame'>\n",
            "Int64Index: 480 entries, 1 to 613\n",
            "Data columns (total 13 columns):\n",
            " #   Column                   Non-Null Count  Dtype  \n",
            "---  ------                   --------------  -----  \n",
            " 0   ID                       480 non-null    object \n",
            " 1   Genero                   480 non-null    object \n",
            " 2   Married                  480 non-null    object \n",
            " 3   dependientes             480 non-null    object \n",
            " 4    educacion               480 non-null    object \n",
            " 5    autoempleado            480 non-null    object \n",
            " 6    ingresos_solicitante    480 non-null    int64  \n",
            " 7    ingresos_cosolicitante  480 non-null    float64\n",
            " 8    monto_prestamo          480 non-null    float64\n",
            " 9    plazo_prestamo          480 non-null    float64\n",
            " 10   historial_crediticio    480 non-null    float64\n",
            " 11   area_propiedad          480 non-null    object \n",
            " 12   estado_prestamo         480 non-null    object \n",
            "dtypes: float64(4), int64(1), object(8)\n",
            "memory usage: 52.5+ KB\n",
            "None\n"
          ]
        }
      ],
      "source": [
        "print(data.info())"
      ]
    },
    {
      "cell_type": "code",
      "execution_count": null,
      "metadata": {
        "colab": {
          "base_uri": "https://localhost:8080/",
          "height": 278
        },
        "id": "ZSRUSuzzplsy",
        "outputId": "86daff65-00d2-414f-a99b-64b2c9d143e4"
      },
      "outputs": [
        {
          "name": "stdout",
          "output_type": "stream",
          "text": [
            "\n",
            "Primeras filas del conjunto de datos:\n"
          ]
        },
        {
          "data": {
            "application/vnd.google.colaboratory.intrinsic+json": {
              "summary": "{\n  \"name\": \"data\",\n  \"rows\": 480,\n  \"fields\": [\n    {\n      \"column\": \"ID\",\n      \"properties\": {\n        \"dtype\": \"string\",\n        \"num_unique_values\": 480,\n        \"samples\": [\n          \"LP001319\",\n          \"LP002716\",\n          \"LP002622\"\n        ],\n        \"semantic_type\": \"\",\n        \"description\": \"\"\n      }\n    },\n    {\n      \"column\": \"Genero\",\n      \"properties\": {\n        \"dtype\": \"category\",\n        \"num_unique_values\": 2,\n        \"samples\": [\n          \"FeHombre\",\n          \"Hombre\"\n        ],\n        \"semantic_type\": \"\",\n        \"description\": \"\"\n      }\n    },\n    {\n      \"column\": \"Married\",\n      \"properties\": {\n        \"dtype\": \"category\",\n        \"num_unique_values\": 2,\n        \"samples\": [\n          \"No\",\n          \"Si\"\n        ],\n        \"semantic_type\": \"\",\n        \"description\": \"\"\n      }\n    },\n    {\n      \"column\": \"dependientes\",\n      \"properties\": {\n        \"dtype\": \"category\",\n        \"num_unique_values\": 4,\n        \"samples\": [\n          \"0\",\n          \"3+\"\n        ],\n        \"semantic_type\": \"\",\n        \"description\": \"\"\n      }\n    },\n    {\n      \"column\": \" educacion\",\n      \"properties\": {\n        \"dtype\": \"category\",\n        \"num_unique_values\": 2,\n        \"samples\": [\n          \"Not Graduado\",\n          \"Graduado\"\n        ],\n        \"semantic_type\": \"\",\n        \"description\": \"\"\n      }\n    },\n    {\n      \"column\": \" autoempleado\",\n      \"properties\": {\n        \"dtype\": \"category\",\n        \"num_unique_values\": 2,\n        \"samples\": [\n          \"Si\",\n          \"No\"\n        ],\n        \"semantic_type\": \"\",\n        \"description\": \"\"\n      }\n    },\n    {\n      \"column\": \" ingresos_solicitante\",\n      \"properties\": {\n        \"dtype\": \"number\",\n        \"std\": 5668,\n        \"min\": 150,\n        \"max\": 81000,\n        \"num_unique_values\": 405,\n        \"samples\": [\n          2484,\n          3717\n        ],\n        \"semantic_type\": \"\",\n        \"description\": \"\"\n      }\n    },\n    {\n      \"column\": \" ingresos_cosolicitante\",\n      \"properties\": {\n        \"dtype\": \"number\",\n        \"std\": 2617.6922669225105,\n        \"min\": 0.0,\n        \"max\": 33837.0,\n        \"num_unique_values\": 232,\n        \"samples\": [\n          2064.0,\n          2083.0\n        ],\n        \"semantic_type\": \"\",\n        \"description\": \"\"\n      }\n    },\n    {\n      \"column\": \" monto_prestamo\",\n      \"properties\": {\n        \"dtype\": \"number\",\n        \"std\": 80.50816421360777,\n        \"min\": 9.0,\n        \"max\": 600.0,\n        \"num_unique_values\": 186,\n        \"samples\": [\n          192.0,\n          208.0\n        ],\n        \"semantic_type\": \"\",\n        \"description\": \"\"\n      }\n    },\n    {\n      \"column\": \" plazo_prestamo\",\n      \"properties\": {\n        \"dtype\": \"number\",\n        \"std\": 65.21240068043208,\n        \"min\": 36.0,\n        \"max\": 480.0,\n        \"num_unique_values\": 9,\n        \"samples\": [\n          36.0,\n          120.0\n        ],\n        \"semantic_type\": \"\",\n        \"description\": \"\"\n      }\n    },\n    {\n      \"column\": \" historial_crediticio\",\n      \"properties\": {\n        \"dtype\": \"number\",\n        \"std\": 0.3533072691637982,\n        \"min\": 0.0,\n        \"max\": 1.0,\n        \"num_unique_values\": 2,\n        \"samples\": [\n          0.0,\n          1.0\n        ],\n        \"semantic_type\": \"\",\n        \"description\": \"\"\n      }\n    },\n    {\n      \"column\": \" area_propiedad\",\n      \"properties\": {\n        \"dtype\": \"category\",\n        \"num_unique_values\": 3,\n        \"samples\": [\n          \"Rural\",\n          \"Urbano\"\n        ],\n        \"semantic_type\": \"\",\n        \"description\": \"\"\n      }\n    },\n    {\n      \"column\": \" estado_prestamo\",\n      \"properties\": {\n        \"dtype\": \"category\",\n        \"num_unique_values\": 2,\n        \"samples\": [\n          \"Y\",\n          \"N\"\n        ],\n        \"semantic_type\": \"\",\n        \"description\": \"\"\n      }\n    }\n  ]\n}",
              "type": "dataframe",
              "variable_name": "data"
            },
            "text/html": [
              "\n",
              "  <div id=\"df-ef6c0a75-f373-496b-b505-54f4631c9acd\" class=\"colab-df-container\">\n",
              "    <div>\n",
              "<style scoped>\n",
              "    .dataframe tbody tr th:only-of-type {\n",
              "        vertical-align: middle;\n",
              "    }\n",
              "\n",
              "    .dataframe tbody tr th {\n",
              "        vertical-align: top;\n",
              "    }\n",
              "\n",
              "    .dataframe thead th {\n",
              "        text-align: right;\n",
              "    }\n",
              "</style>\n",
              "<table border=\"1\" class=\"dataframe\">\n",
              "  <thead>\n",
              "    <tr style=\"text-align: right;\">\n",
              "      <th></th>\n",
              "      <th>ID</th>\n",
              "      <th>Genero</th>\n",
              "      <th>Married</th>\n",
              "      <th>dependientes</th>\n",
              "      <th>educacion</th>\n",
              "      <th>autoempleado</th>\n",
              "      <th>ingresos_solicitante</th>\n",
              "      <th>ingresos_cosolicitante</th>\n",
              "      <th>monto_prestamo</th>\n",
              "      <th>plazo_prestamo</th>\n",
              "      <th>historial_crediticio</th>\n",
              "      <th>area_propiedad</th>\n",
              "      <th>estado_prestamo</th>\n",
              "    </tr>\n",
              "  </thead>\n",
              "  <tbody>\n",
              "    <tr>\n",
              "      <th>1</th>\n",
              "      <td>LP001003</td>\n",
              "      <td>Hombre</td>\n",
              "      <td>Si</td>\n",
              "      <td>1</td>\n",
              "      <td>Graduado</td>\n",
              "      <td>No</td>\n",
              "      <td>4583</td>\n",
              "      <td>1508.0</td>\n",
              "      <td>128.0</td>\n",
              "      <td>360.0</td>\n",
              "      <td>1.0</td>\n",
              "      <td>Rural</td>\n",
              "      <td>N</td>\n",
              "    </tr>\n",
              "    <tr>\n",
              "      <th>2</th>\n",
              "      <td>LP001005</td>\n",
              "      <td>Hombre</td>\n",
              "      <td>Si</td>\n",
              "      <td>0</td>\n",
              "      <td>Graduado</td>\n",
              "      <td>Si</td>\n",
              "      <td>3000</td>\n",
              "      <td>0.0</td>\n",
              "      <td>66.0</td>\n",
              "      <td>360.0</td>\n",
              "      <td>1.0</td>\n",
              "      <td>Urbano</td>\n",
              "      <td>Y</td>\n",
              "    </tr>\n",
              "    <tr>\n",
              "      <th>3</th>\n",
              "      <td>LP001006</td>\n",
              "      <td>Hombre</td>\n",
              "      <td>Si</td>\n",
              "      <td>0</td>\n",
              "      <td>Not Graduado</td>\n",
              "      <td>No</td>\n",
              "      <td>2583</td>\n",
              "      <td>2358.0</td>\n",
              "      <td>120.0</td>\n",
              "      <td>360.0</td>\n",
              "      <td>1.0</td>\n",
              "      <td>Urbano</td>\n",
              "      <td>Y</td>\n",
              "    </tr>\n",
              "    <tr>\n",
              "      <th>4</th>\n",
              "      <td>LP001008</td>\n",
              "      <td>Hombre</td>\n",
              "      <td>No</td>\n",
              "      <td>0</td>\n",
              "      <td>Graduado</td>\n",
              "      <td>No</td>\n",
              "      <td>6000</td>\n",
              "      <td>0.0</td>\n",
              "      <td>141.0</td>\n",
              "      <td>360.0</td>\n",
              "      <td>1.0</td>\n",
              "      <td>Urbano</td>\n",
              "      <td>Y</td>\n",
              "    </tr>\n",
              "    <tr>\n",
              "      <th>5</th>\n",
              "      <td>LP001011</td>\n",
              "      <td>Hombre</td>\n",
              "      <td>Si</td>\n",
              "      <td>2</td>\n",
              "      <td>Graduado</td>\n",
              "      <td>Si</td>\n",
              "      <td>5417</td>\n",
              "      <td>4196.0</td>\n",
              "      <td>267.0</td>\n",
              "      <td>360.0</td>\n",
              "      <td>1.0</td>\n",
              "      <td>Urbano</td>\n",
              "      <td>Y</td>\n",
              "    </tr>\n",
              "  </tbody>\n",
              "</table>\n",
              "</div>\n",
              "    <div class=\"colab-df-buttons\">\n",
              "\n",
              "  <div class=\"colab-df-container\">\n",
              "    <button class=\"colab-df-convert\" onclick=\"convertToInteractive('df-ef6c0a75-f373-496b-b505-54f4631c9acd')\"\n",
              "            title=\"Convert this dataframe to an interactive table.\"\n",
              "            style=\"display:none;\">\n",
              "\n",
              "  <svg xmlns=\"http://www.w3.org/2000/svg\" height=\"24px\" viewBox=\"0 -960 960 960\">\n",
              "    <path d=\"M120-120v-720h720v720H120Zm60-500h600v-160H180v160Zm220 220h160v-160H400v160Zm0 220h160v-160H400v160ZM180-400h160v-160H180v160Zm440 0h160v-160H620v160ZM180-180h160v-160H180v160Zm440 0h160v-160H620v160Z\"/>\n",
              "  </svg>\n",
              "    </button>\n",
              "\n",
              "  <style>\n",
              "    .colab-df-container {\n",
              "      display:flex;\n",
              "      gap: 12px;\n",
              "    }\n",
              "\n",
              "    .colab-df-convert {\n",
              "      background-color: #E8F0FE;\n",
              "      border: none;\n",
              "      border-radius: 50%;\n",
              "      cursor: pointer;\n",
              "      display: none;\n",
              "      fill: #1967D2;\n",
              "      height: 32px;\n",
              "      padding: 0 0 0 0;\n",
              "      width: 32px;\n",
              "    }\n",
              "\n",
              "    .colab-df-convert:hover {\n",
              "      background-color: #E2EBFA;\n",
              "      box-shadow: 0px 1px 2px rgba(60, 64, 67, 0.3), 0px 1px 3px 1px rgba(60, 64, 67, 0.15);\n",
              "      fill: #174EA6;\n",
              "    }\n",
              "\n",
              "    .colab-df-buttons div {\n",
              "      margin-bottom: 4px;\n",
              "    }\n",
              "\n",
              "    [theme=dark] .colab-df-convert {\n",
              "      background-color: #3B4455;\n",
              "      fill: #D2E3FC;\n",
              "    }\n",
              "\n",
              "    [theme=dark] .colab-df-convert:hover {\n",
              "      background-color: #434B5C;\n",
              "      box-shadow: 0px 1px 3px 1px rgba(0, 0, 0, 0.15);\n",
              "      filter: drop-shadow(0px 1px 2px rgba(0, 0, 0, 0.3));\n",
              "      fill: #FFFFFF;\n",
              "    }\n",
              "  </style>\n",
              "\n",
              "    <script>\n",
              "      const buttonEl =\n",
              "        document.querySelector('#df-ef6c0a75-f373-496b-b505-54f4631c9acd button.colab-df-convert');\n",
              "      buttonEl.style.display =\n",
              "        google.colab.kernel.accessAllowed ? 'block' : 'none';\n",
              "\n",
              "      async function convertToInteractive(key) {\n",
              "        const element = document.querySelector('#df-ef6c0a75-f373-496b-b505-54f4631c9acd');\n",
              "        const dataTable =\n",
              "          await google.colab.kernel.invokeFunction('convertToInteractive',\n",
              "                                                    [key], {});\n",
              "        if (!dataTable) return;\n",
              "\n",
              "        const docLinkHtml = 'Like what you see? Visit the ' +\n",
              "          '<a target=\"_blank\" href=https://colab.research.google.com/notebooks/data_table.ipynb>data table notebook</a>'\n",
              "          + ' to learn more about interactive tables.';\n",
              "        element.innerHTML = '';\n",
              "        dataTable['output_type'] = 'display_data';\n",
              "        await google.colab.output.renderOutput(dataTable, element);\n",
              "        const docLink = document.createElement('div');\n",
              "        docLink.innerHTML = docLinkHtml;\n",
              "        element.appendChild(docLink);\n",
              "      }\n",
              "    </script>\n",
              "  </div>\n",
              "\n",
              "\n",
              "<div id=\"df-a575e437-914c-41a8-b2b1-30738421d86b\">\n",
              "  <button class=\"colab-df-quickchart\" onclick=\"quickchart('df-a575e437-914c-41a8-b2b1-30738421d86b')\"\n",
              "            title=\"Suggest charts\"\n",
              "            style=\"display:none;\">\n",
              "\n",
              "<svg xmlns=\"http://www.w3.org/2000/svg\" height=\"24px\"viewBox=\"0 0 24 24\"\n",
              "     width=\"24px\">\n",
              "    <g>\n",
              "        <path d=\"M19 3H5c-1.1 0-2 .9-2 2v14c0 1.1.9 2 2 2h14c1.1 0 2-.9 2-2V5c0-1.1-.9-2-2-2zM9 17H7v-7h2v7zm4 0h-2V7h2v10zm4 0h-2v-4h2v4z\"/>\n",
              "    </g>\n",
              "</svg>\n",
              "  </button>\n",
              "\n",
              "<style>\n",
              "  .colab-df-quickchart {\n",
              "      --bg-color: #E8F0FE;\n",
              "      --fill-color: #1967D2;\n",
              "      --hover-bg-color: #E2EBFA;\n",
              "      --hover-fill-color: #174EA6;\n",
              "      --disabled-fill-color: #AAA;\n",
              "      --disabled-bg-color: #DDD;\n",
              "  }\n",
              "\n",
              "  [theme=dark] .colab-df-quickchart {\n",
              "      --bg-color: #3B4455;\n",
              "      --fill-color: #D2E3FC;\n",
              "      --hover-bg-color: #434B5C;\n",
              "      --hover-fill-color: #FFFFFF;\n",
              "      --disabled-bg-color: #3B4455;\n",
              "      --disabled-fill-color: #666;\n",
              "  }\n",
              "\n",
              "  .colab-df-quickchart {\n",
              "    background-color: var(--bg-color);\n",
              "    border: none;\n",
              "    border-radius: 50%;\n",
              "    cursor: pointer;\n",
              "    display: none;\n",
              "    fill: var(--fill-color);\n",
              "    height: 32px;\n",
              "    padding: 0;\n",
              "    width: 32px;\n",
              "  }\n",
              "\n",
              "  .colab-df-quickchart:hover {\n",
              "    background-color: var(--hover-bg-color);\n",
              "    box-shadow: 0 1px 2px rgba(60, 64, 67, 0.3), 0 1px 3px 1px rgba(60, 64, 67, 0.15);\n",
              "    fill: var(--button-hover-fill-color);\n",
              "  }\n",
              "\n",
              "  .colab-df-quickchart-complete:disabled,\n",
              "  .colab-df-quickchart-complete:disabled:hover {\n",
              "    background-color: var(--disabled-bg-color);\n",
              "    fill: var(--disabled-fill-color);\n",
              "    box-shadow: none;\n",
              "  }\n",
              "\n",
              "  .colab-df-spinner {\n",
              "    border: 2px solid var(--fill-color);\n",
              "    border-color: transparent;\n",
              "    border-bottom-color: var(--fill-color);\n",
              "    animation:\n",
              "      spin 1s steps(1) infinite;\n",
              "  }\n",
              "\n",
              "  @keyframes spin {\n",
              "    0% {\n",
              "      border-color: transparent;\n",
              "      border-bottom-color: var(--fill-color);\n",
              "      border-left-color: var(--fill-color);\n",
              "    }\n",
              "    20% {\n",
              "      border-color: transparent;\n",
              "      border-left-color: var(--fill-color);\n",
              "      border-top-color: var(--fill-color);\n",
              "    }\n",
              "    30% {\n",
              "      border-color: transparent;\n",
              "      border-left-color: var(--fill-color);\n",
              "      border-top-color: var(--fill-color);\n",
              "      border-right-color: var(--fill-color);\n",
              "    }\n",
              "    40% {\n",
              "      border-color: transparent;\n",
              "      border-right-color: var(--fill-color);\n",
              "      border-top-color: var(--fill-color);\n",
              "    }\n",
              "    60% {\n",
              "      border-color: transparent;\n",
              "      border-right-color: var(--fill-color);\n",
              "    }\n",
              "    80% {\n",
              "      border-color: transparent;\n",
              "      border-right-color: var(--fill-color);\n",
              "      border-bottom-color: var(--fill-color);\n",
              "    }\n",
              "    90% {\n",
              "      border-color: transparent;\n",
              "      border-bottom-color: var(--fill-color);\n",
              "    }\n",
              "  }\n",
              "</style>\n",
              "\n",
              "  <script>\n",
              "    async function quickchart(key) {\n",
              "      const quickchartButtonEl =\n",
              "        document.querySelector('#' + key + ' button');\n",
              "      quickchartButtonEl.disabled = true;  // To prevent multiple clicks.\n",
              "      quickchartButtonEl.classList.add('colab-df-spinner');\n",
              "      try {\n",
              "        const charts = await google.colab.kernel.invokeFunction(\n",
              "            'suggestCharts', [key], {});\n",
              "      } catch (error) {\n",
              "        console.error('Error during call to suggestCharts:', error);\n",
              "      }\n",
              "      quickchartButtonEl.classList.remove('colab-df-spinner');\n",
              "      quickchartButtonEl.classList.add('colab-df-quickchart-complete');\n",
              "    }\n",
              "    (() => {\n",
              "      let quickchartButtonEl =\n",
              "        document.querySelector('#df-a575e437-914c-41a8-b2b1-30738421d86b button');\n",
              "      quickchartButtonEl.style.display =\n",
              "        google.colab.kernel.accessAllowed ? 'block' : 'none';\n",
              "    })();\n",
              "  </script>\n",
              "</div>\n",
              "\n",
              "    </div>\n",
              "  </div>\n"
            ],
            "text/plain": [
              "         ID  Genero Married dependientes     educacion  autoempleado  \\\n",
              "1  LP001003  Hombre      Si            1      Graduado            No   \n",
              "2  LP001005  Hombre      Si            0      Graduado            Si   \n",
              "3  LP001006  Hombre      Si            0  Not Graduado            No   \n",
              "4  LP001008  Hombre      No            0      Graduado            No   \n",
              "5  LP001011  Hombre      Si            2      Graduado            Si   \n",
              "\n",
              "    ingresos_solicitante   ingresos_cosolicitante   monto_prestamo  \\\n",
              "1                   4583                   1508.0            128.0   \n",
              "2                   3000                      0.0             66.0   \n",
              "3                   2583                   2358.0            120.0   \n",
              "4                   6000                      0.0            141.0   \n",
              "5                   5417                   4196.0            267.0   \n",
              "\n",
              "    plazo_prestamo   historial_crediticio  area_propiedad  estado_prestamo  \n",
              "1            360.0                    1.0           Rural                N  \n",
              "2            360.0                    1.0          Urbano                Y  \n",
              "3            360.0                    1.0          Urbano                Y  \n",
              "4            360.0                    1.0          Urbano                Y  \n",
              "5            360.0                    1.0          Urbano                Y  "
            ]
          },
          "execution_count": 7,
          "metadata": {},
          "output_type": "execute_result"
        }
      ],
      "source": [
        "# Visualizar las primeras filas del conjunto de datos\n",
        "print(\"\\nPrimeras filas del conjunto de datos:\")\n",
        "data.head(5)"
      ]
    },
    {
      "cell_type": "code",
      "execution_count": 15,
      "metadata": {
        "id": "P1-FzidzJWwj"
      },
      "outputs": [],
      "source": [
        "#Parte de la preparación; pasamos de variables type string a type integer, todo para que el modelo lo entienda mejor (cada modelo entiendo un type demejor manera)\n",
        "data[' estado_prestamo'] = data[' estado_prestamo'].replace({\"Y\": 1, \"N\": 0})\n",
        "data[' estado_prestamo'] = data[' estado_prestamo'].astype(int)\n",
        "\n",
        "data[' educacion'] = data[' educacion'].replace({\"Graduado\": 1, \"Not Graduado\": 0})\n",
        "data[' educacion'] = data[' educacion'].astype(int)\n",
        "\n",
        "data['Married'] = data['Married'].replace({\"Si\": 1, \"No\": 0})\n",
        "data['Married'] = data['Married'].astype(int)\n"
      ]
    },
    {
      "cell_type": "code",
      "execution_count": null,
      "metadata": {
        "colab": {
          "base_uri": "https://localhost:8080/"
        },
        "id": "W1gMQtPKvToQ",
        "outputId": "2a9805f9-5510-492c-c877-19a6dcf95779"
      },
      "outputs": [
        {
          "name": "stdout",
          "output_type": "stream",
          "text": [
            "['Si' 'No']\n"
          ]
        },
        {
          "data": {
            "text/plain": [
              "Index(['ID', 'Genero', 'Married', 'dependientes', ' educacion',\n",
              "       ' autoempleado', ' ingresos_solicitante', ' ingresos_cosolicitante',\n",
              "       ' monto_prestamo', ' plazo_prestamo', ' historial_crediticio',\n",
              "       ' area_propiedad', ' estado_prestamo'],\n",
              "      dtype='object')"
            ]
          },
          "execution_count": 50,
          "metadata": {},
          "output_type": "execute_result"
        }
      ],
      "source": [
        "unique_value = data['Married'].unique()\n",
        "print(unique_value)\n",
        "\n",
        "data.columns\n"
      ]
    },
    {
      "cell_type": "code",
      "execution_count": null,
      "metadata": {
        "id": "V7D5Vuz-q4ID"
      },
      "outputs": [],
      "source": [
        "# Paso 3: Dividir el conjunto de datos en características (X) y etiquetas (y), se seleccionan los target\n",
        "X = data[[\" ingresos_solicitante\", \" ingresos_cosolicitante\", \" monto_prestamo\", \" plazo_prestamo\", \" historial_crediticio\", \" educacion\", \"Married\"]]\n",
        "y = data[' estado_prestamo']"
      ]
    },
    {
      "cell_type": "code",
      "execution_count": null,
      "metadata": {
        "colab": {
          "base_uri": "https://localhost:8080/"
        },
        "id": "g7mRY2EcJQLe",
        "outputId": "37a1eb87-19c1-45c5-f10a-4dbf4dd153eb"
      },
      "outputs": [
        {
          "name": "stdout",
          "output_type": "stream",
          "text": [
            "<class 'pandas.core.frame.DataFrame'>\n",
            "Int64Index: 480 entries, 1 to 613\n",
            "Data columns (total 7 columns):\n",
            " #   Column                   Non-Null Count  Dtype  \n",
            "---  ------                   --------------  -----  \n",
            " 0    ingresos_solicitante    480 non-null    int64  \n",
            " 1    ingresos_cosolicitante  480 non-null    float64\n",
            " 2    monto_prestamo          480 non-null    float64\n",
            " 3    plazo_prestamo          480 non-null    float64\n",
            " 4    historial_crediticio    480 non-null    float64\n",
            " 5    educacion               480 non-null    int64  \n",
            " 6   Married                  480 non-null    int64  \n",
            "dtypes: float64(4), int64(3)\n",
            "memory usage: 30.0 KB\n",
            "None\n"
          ]
        }
      ],
      "source": [
        "print(X.info())"
      ]
    },
    {
      "cell_type": "code",
      "execution_count": null,
      "metadata": {
        "colab": {
          "base_uri": "https://localhost:8080/",
          "height": 74
        },
        "id": "cP-r7vkypV09",
        "outputId": "c425eafa-c4ab-41bc-c768-48d4b3e5e8d8"
      },
      "outputs": [
        {
          "data": {
            "text/html": [
              "<style>#sk-container-id-1 {color: black;background-color: white;}#sk-container-id-1 pre{padding: 0;}#sk-container-id-1 div.sk-toggleable {background-color: white;}#sk-container-id-1 label.sk-toggleable__label {cursor: pointer;display: block;width: 100%;margin-bottom: 0;padding: 0.3em;box-sizing: border-box;text-align: center;}#sk-container-id-1 label.sk-toggleable__label-arrow:before {content: \"▸\";float: left;margin-right: 0.25em;color: #696969;}#sk-container-id-1 label.sk-toggleable__label-arrow:hover:before {color: black;}#sk-container-id-1 div.sk-estimator:hover label.sk-toggleable__label-arrow:before {color: black;}#sk-container-id-1 div.sk-toggleable__content {max-height: 0;max-width: 0;overflow: hidden;text-align: left;background-color: #f0f8ff;}#sk-container-id-1 div.sk-toggleable__content pre {margin: 0.2em;color: black;border-radius: 0.25em;background-color: #f0f8ff;}#sk-container-id-1 input.sk-toggleable__control:checked~div.sk-toggleable__content {max-height: 200px;max-width: 100%;overflow: auto;}#sk-container-id-1 input.sk-toggleable__control:checked~label.sk-toggleable__label-arrow:before {content: \"▾\";}#sk-container-id-1 div.sk-estimator input.sk-toggleable__control:checked~label.sk-toggleable__label {background-color: #d4ebff;}#sk-container-id-1 div.sk-label input.sk-toggleable__control:checked~label.sk-toggleable__label {background-color: #d4ebff;}#sk-container-id-1 input.sk-hidden--visually {border: 0;clip: rect(1px 1px 1px 1px);clip: rect(1px, 1px, 1px, 1px);height: 1px;margin: -1px;overflow: hidden;padding: 0;position: absolute;width: 1px;}#sk-container-id-1 div.sk-estimator {font-family: monospace;background-color: #f0f8ff;border: 1px dotted black;border-radius: 0.25em;box-sizing: border-box;margin-bottom: 0.5em;}#sk-container-id-1 div.sk-estimator:hover {background-color: #d4ebff;}#sk-container-id-1 div.sk-parallel-item::after {content: \"\";width: 100%;border-bottom: 1px solid gray;flex-grow: 1;}#sk-container-id-1 div.sk-label:hover label.sk-toggleable__label {background-color: #d4ebff;}#sk-container-id-1 div.sk-serial::before {content: \"\";position: absolute;border-left: 1px solid gray;box-sizing: border-box;top: 0;bottom: 0;left: 50%;z-index: 0;}#sk-container-id-1 div.sk-serial {display: flex;flex-direction: column;align-items: center;background-color: white;padding-right: 0.2em;padding-left: 0.2em;position: relative;}#sk-container-id-1 div.sk-item {position: relative;z-index: 1;}#sk-container-id-1 div.sk-parallel {display: flex;align-items: stretch;justify-content: center;background-color: white;position: relative;}#sk-container-id-1 div.sk-item::before, #sk-container-id-1 div.sk-parallel-item::before {content: \"\";position: absolute;border-left: 1px solid gray;box-sizing: border-box;top: 0;bottom: 0;left: 50%;z-index: -1;}#sk-container-id-1 div.sk-parallel-item {display: flex;flex-direction: column;z-index: 1;position: relative;background-color: white;}#sk-container-id-1 div.sk-parallel-item:first-child::after {align-self: flex-end;width: 50%;}#sk-container-id-1 div.sk-parallel-item:last-child::after {align-self: flex-start;width: 50%;}#sk-container-id-1 div.sk-parallel-item:only-child::after {width: 0;}#sk-container-id-1 div.sk-dashed-wrapped {border: 1px dashed gray;margin: 0 0.4em 0.5em 0.4em;box-sizing: border-box;padding-bottom: 0.4em;background-color: white;}#sk-container-id-1 div.sk-label label {font-family: monospace;font-weight: bold;display: inline-block;line-height: 1.2em;}#sk-container-id-1 div.sk-label-container {text-align: center;}#sk-container-id-1 div.sk-container {/* jupyter's `normalize.less` sets `[hidden] { display: none; }` but bootstrap.min.css set `[hidden] { display: none !important; }` so we also need the `!important` here to be able to override the default hidden behavior on the sphinx rendered scikit-learn.org. See: https://github.com/scikit-learn/scikit-learn/issues/21755 */display: inline-block !important;position: relative;}#sk-container-id-1 div.sk-text-repr-fallback {display: none;}</style><div id=\"sk-container-id-1\" class=\"sk-top-container\"><div class=\"sk-text-repr-fallback\"><pre>RandomForestClassifier(random_state=42)</pre><b>In a Jupyter environment, please rerun this cell to show the HTML representation or trust the notebook. <br />On GitHub, the HTML representation is unable to render, please try loading this page with nbviewer.org.</b></div><div class=\"sk-container\" hidden><div class=\"sk-item\"><div class=\"sk-estimator sk-toggleable\"><input class=\"sk-toggleable__control sk-hidden--visually\" id=\"sk-estimator-id-1\" type=\"checkbox\" checked><label for=\"sk-estimator-id-1\" class=\"sk-toggleable__label sk-toggleable__label-arrow\">RandomForestClassifier</label><div class=\"sk-toggleable__content\"><pre>RandomForestClassifier(random_state=42)</pre></div></div></div></div></div>"
            ],
            "text/plain": [
              "RandomForestClassifier(random_state=42)"
            ]
          },
          "execution_count": 7,
          "metadata": {},
          "output_type": "execute_result"
        }
      ],
      "source": [
        "# Dividir el conjunto de datos en entrenamiento y prueba\n",
        "X_train, X_test, y_train, y_test = train_test_split(X, y, test_size=0.2, random_state=42) #test_size=0.2 se usa para indicar que el 20% de lso datos se vayan a prueba y el 80% a entrenamiento\n",
        "\n",
        "# Paso 4: Entrenar un modelo de clasificación (usando Random Forest como ejemplo)\n",
        "modelo = RandomForestClassifier(random_state=42)\n",
        "modelo.fit(X_train, y_train)"
      ]
    },
    {
      "cell_type": "code",
      "execution_count": null,
      "metadata": {
        "colab": {
          "base_uri": "https://localhost:8080/",
          "height": 790
        },
        "id": "oG5GbHgQsXRv",
        "outputId": "b2bf6f56-01f3-4981-aa8f-e4855d503d76"
      },
      "outputs": [
        {
          "name": "stdout",
          "output_type": "stream",
          "text": [
            "\n",
            "Precisión del modelo: 0.79\n"
          ]
        },
        {
          "data": {
            "image/png": "[encoded data removed]",
            "text/plain": [
              "<Figure size 800x600 with 1 Axes>"
            ]
          },
          "metadata": {},
          "output_type": "display_data"
        },
        {
          "name": "stdout",
          "output_type": "stream",
          "text": [
            "\n",
            "Informe de Clasificación:\n",
            "              precision    recall  f1-score   support\n",
            "\n",
            "           0       0.75      0.43      0.55        28\n",
            "           1       0.80      0.94      0.86        68\n",
            "\n",
            "    accuracy                           0.79        96\n",
            "   macro avg       0.78      0.68      0.71        96\n",
            "weighted avg       0.79      0.79      0.77        96\n",
            "\n"
          ]
        }
      ],
      "source": [
        "# Paso 5: Evaluación del modelo\n",
        "y_pred = modelo.predict(X_test)\n",
        "\n",
        "# Calcular la precisión del modelo\n",
        "precision = accuracy_score(y_test, y_pred)\n",
        "print(f\"\\nPrecisión del modelo: {precision:.2f}\")\n",
        "\n",
        "# Mostrar la matriz de confusión\n",
        "matriz_confusion = confusion_matrix(y_test, y_pred)\n",
        "plt.figure(figsize=(8, 6))\n",
        "sns.heatmap(matriz_confusion, annot=True, fmt='d', cmap='Blues', cbar=False)\n",
        "plt.xlabel('Predicciones')\n",
        "plt.ylabel('Valores reales')\n",
        "plt.title('Matriz de Confusión')\n",
        "plt.show()\n",
        "\n",
        "# Mostrar el informe de clasificación\n",
        "informe_clasificacion = classification_report(y_test, y_pred)\n",
        "print(\"\\nInforme de Clasificación:\")\n",
        "print(informe_clasificacion)"
      ]
    },
    {
      "cell_type": "code",
      "execution_count": null,
      "metadata": {
        "id": "Yypk5gYzi3V0"
      },
      "outputs": [],
      "source": [
        "# Paso 6: Guardar el modelo entrenado,  esta es la parte del modelo que arrojó el ML\n",
        "import pickle\n",
        "\n",
        "with open('modelo_prestamo.pkl', 'wb') as archivo_salida:\n",
        "    pickle.dump(modelo, archivo_salida)\n",
        "\n",
        "# Paso 7: Cargar el modelo entrenado\n",
        "with open('modelo_prestamo.pkl', 'rb') as archivo_entrada:\n",
        "    modelo_cargado = pickle.load(archivo_entrada)\n"
      ]
    },
    {
      "cell_type": "markdown",
      "metadata": {
        "id": "THUUEtpWXmv9"
      },
      "source": [
        "Ejercicio 1: predecir el estado de préstamo con otras variables"
      ]
    },
    {
      "cell_type": "code",
      "execution_count": 16,
      "metadata": {
        "id": "3BllXNLAi3V1"
      },
      "outputs": [],
      "source": [
        "# Ejercicio: Predecir si un préstamo será aprobado o no utilizando otras variables del conjunto de datos\n",
        "\n",
        "#Parte de la preparación; pasamos de variables type string a type integer, todo para que el modelo lo entienda mejor (cada modelo entiendo un type demejor manera)\n",
        "data[' estado_prestamo'] = data[' estado_prestamo'].replace({\"Y\": 1, \"N\": 0})\n",
        "data[' estado_prestamo'] = data[' estado_prestamo'].astype(int)\n",
        "\n",
        "data[' educacion'] = data[' educacion'].replace({\"Graduado\": 1, \"Not Graduado\": 0})\n",
        "data[' educacion'] = data[' educacion'].astype(int)\n",
        "\n",
        "data['Married'] = data['Married'].replace({\"Si\": 1, \"No\": 0})\n",
        "data['Married'] = data['Married'].astype(int)"
      ]
    },
    {
      "cell_type": "code",
      "execution_count": 17,
      "metadata": {
        "id": "URye3olQXSeU"
      },
      "outputs": [],
      "source": [
        "# Dividir el conjunto de datos en características (X) y etiquetas (y), se seleccionan los target\n",
        "X = data[[\" ingresos_solicitante\", \" ingresos_cosolicitante\", \" monto_prestamo\", \" plazo_prestamo\", \" historial_crediticio\", \" educacion\", \"Married\"]]\n",
        "y = data[' estado_prestamo']"
      ]
    },
    {
      "cell_type": "code",
      "execution_count": 18,
      "metadata": {
        "id": "hcs5bgpVXd5M",
        "colab": {
          "base_uri": "https://localhost:8080/",
          "height": 74
        },
        "outputId": "3372af52-3394-43f2-be24-d78af6b2f332"
      },
      "outputs": [
        {
          "output_type": "execute_result",
          "data": {
            "text/plain": [
              "RandomForestClassifier(random_state=42)"
            ],
            "text/html": [
              "<style>#sk-container-id-2 {color: black;background-color: white;}#sk-container-id-2 pre{padding: 0;}#sk-container-id-2 div.sk-toggleable {background-color: white;}#sk-container-id-2 label.sk-toggleable__label {cursor: pointer;display: block;width: 100%;margin-bottom: 0;padding: 0.3em;box-sizing: border-box;text-align: center;}#sk-container-id-2 label.sk-toggleable__label-arrow:before {content: \"▸\";float: left;margin-right: 0.25em;color: #696969;}#sk-container-id-2 label.sk-toggleable__label-arrow:hover:before {color: black;}#sk-container-id-2 div.sk-estimator:hover label.sk-toggleable__label-arrow:before {color: black;}#sk-container-id-2 div.sk-toggleable__content {max-height: 0;max-width: 0;overflow: hidden;text-align: left;background-color: #f0f8ff;}#sk-container-id-2 div.sk-toggleable__content pre {margin: 0.2em;color: black;border-radius: 0.25em;background-color: #f0f8ff;}#sk-container-id-2 input.sk-toggleable__control:checked~div.sk-toggleable__content {max-height: 200px;max-width: 100%;overflow: auto;}#sk-container-id-2 input.sk-toggleable__control:checked~label.sk-toggleable__label-arrow:before {content: \"▾\";}#sk-container-id-2 div.sk-estimator input.sk-toggleable__control:checked~label.sk-toggleable__label {background-color: #d4ebff;}#sk-container-id-2 div.sk-label input.sk-toggleable__control:checked~label.sk-toggleable__label {background-color: #d4ebff;}#sk-container-id-2 input.sk-hidden--visually {border: 0;clip: rect(1px 1px 1px 1px);clip: rect(1px, 1px, 1px, 1px);height: 1px;margin: -1px;overflow: hidden;padding: 0;position: absolute;width: 1px;}#sk-container-id-2 div.sk-estimator {font-family: monospace;background-color: #f0f8ff;border: 1px dotted black;border-radius: 0.25em;box-sizing: border-box;margin-bottom: 0.5em;}#sk-container-id-2 div.sk-estimator:hover {background-color: #d4ebff;}#sk-container-id-2 div.sk-parallel-item::after {content: \"\";width: 100%;border-bottom: 1px solid gray;flex-grow: 1;}#sk-container-id-2 div.sk-label:hover label.sk-toggleable__label {background-color: #d4ebff;}#sk-container-id-2 div.sk-serial::before {content: \"\";position: absolute;border-left: 1px solid gray;box-sizing: border-box;top: 0;bottom: 0;left: 50%;z-index: 0;}#sk-container-id-2 div.sk-serial {display: flex;flex-direction: column;align-items: center;background-color: white;padding-right: 0.2em;padding-left: 0.2em;position: relative;}#sk-container-id-2 div.sk-item {position: relative;z-index: 1;}#sk-container-id-2 div.sk-parallel {display: flex;align-items: stretch;justify-content: center;background-color: white;position: relative;}#sk-container-id-2 div.sk-item::before, #sk-container-id-2 div.sk-parallel-item::before {content: \"\";position: absolute;border-left: 1px solid gray;box-sizing: border-box;top: 0;bottom: 0;left: 50%;z-index: -1;}#sk-container-id-2 div.sk-parallel-item {display: flex;flex-direction: column;z-index: 1;position: relative;background-color: white;}#sk-container-id-2 div.sk-parallel-item:first-child::after {align-self: flex-end;width: 50%;}#sk-container-id-2 div.sk-parallel-item:last-child::after {align-self: flex-start;width: 50%;}#sk-container-id-2 div.sk-parallel-item:only-child::after {width: 0;}#sk-container-id-2 div.sk-dashed-wrapped {border: 1px dashed gray;margin: 0 0.4em 0.5em 0.4em;box-sizing: border-box;padding-bottom: 0.4em;background-color: white;}#sk-container-id-2 div.sk-label label {font-family: monospace;font-weight: bold;display: inline-block;line-height: 1.2em;}#sk-container-id-2 div.sk-label-container {text-align: center;}#sk-container-id-2 div.sk-container {/* jupyter's `normalize.less` sets `[hidden] { display: none; }` but bootstrap.min.css set `[hidden] { display: none !important; }` so we also need the `!important` here to be able to override the default hidden behavior on the sphinx rendered scikit-learn.org. See: https://github.com/scikit-learn/scikit-learn/issues/21755 */display: inline-block !important;position: relative;}#sk-container-id-2 div.sk-text-repr-fallback {display: none;}</style><div id=\"sk-container-id-2\" class=\"sk-top-container\"><div class=\"sk-text-repr-fallback\"><pre>RandomForestClassifier(random_state=42)</pre><b>In a Jupyter environment, please rerun this cell to show the HTML representation or trust the notebook. <br />On GitHub, the HTML representation is unable to render, please try loading this page with nbviewer.org.</b></div><div class=\"sk-container\" hidden><div class=\"sk-item\"><div class=\"sk-estimator sk-toggleable\"><input class=\"sk-toggleable__control sk-hidden--visually\" id=\"sk-estimator-id-2\" type=\"checkbox\" checked><label for=\"sk-estimator-id-2\" class=\"sk-toggleable__label sk-toggleable__label-arrow\">RandomForestClassifier</label><div class=\"sk-toggleable__content\"><pre>RandomForestClassifier(random_state=42)</pre></div></div></div></div></div>"
            ]
          },
          "metadata": {},
          "execution_count": 18
        }
      ],
      "source": [
        "# Dividir el conjunto de datos en entrenamiento y prueba\n",
        "X_train, X_test, y_train, y_test = train_test_split(X, y, test_size=0.2, random_state=42) #test_size=0.2 se usa para indicar que el 20% de lso datos se vayan a prueba y el 80% a entrenamiento\n",
        "\n",
        "#Entrenar un modelo de clasificación (usando Random Forest como ejemplo)\n",
        "modelo = RandomForestClassifier(random_state=42)\n",
        "modelo.fit(X_train, y_train)"
      ]
    },
    {
      "cell_type": "code",
      "execution_count": 19,
      "metadata": {
        "id": "JULgx5ZGXcrR",
        "colab": {
          "base_uri": "https://localhost:8080/",
          "height": 790
        },
        "outputId": "5d3b4e72-edeb-4e28-fcd3-3edd2c36d666"
      },
      "outputs": [
        {
          "output_type": "stream",
          "name": "stdout",
          "text": [
            "\n",
            "Precisión del modelo: 0.79\n"
          ]
        },
        {
          "output_type": "display_data",
          "data": {
            "text/plain": [
              "<Figure size 800x600 with 1 Axes>"
            ],
            "image/png": "[encoded data removed]"
          },
          "metadata": {}
        },
        {
          "output_type": "stream",
          "name": "stdout",
          "text": [
            "\n",
            "Informe de Clasificación:\n",
            "              precision    recall  f1-score   support\n",
            "\n",
            "           0       0.75      0.43      0.55        28\n",
            "           1       0.80      0.94      0.86        68\n",
            "\n",
            "    accuracy                           0.79        96\n",
            "   macro avg       0.78      0.68      0.71        96\n",
            "weighted avg       0.79      0.79      0.77        96\n",
            "\n"
          ]
        }
      ],
      "source": [
        "#Evaluación del modelo\n",
        "y_pred = modelo.predict(X_test)\n",
        "\n",
        "# Calcular la precisión del modelo\n",
        "precision = accuracy_score(y_test, y_pred)\n",
        "print(f\"\\nPrecisión del modelo: {precision:.2f}\")\n",
        "\n",
        "# Mostrar la matriz de confusión\n",
        "matriz_confusion = confusion_matrix(y_test, y_pred)\n",
        "plt.figure(figsize=(8, 6))\n",
        "sns.heatmap(matriz_confusion, annot=True, fmt='d', cmap='Blues', cbar=False)\n",
        "plt.xlabel('Predicciones')\n",
        "plt.ylabel('Valores reales')\n",
        "plt.title('Matriz de Confusión')\n",
        "plt.show()\n",
        "\n",
        "# Mostrar el informe de clasificación\n",
        "informe_clasificacion = classification_report(y_test, y_pred)\n",
        "print(\"\\nInforme de Clasificación:\")\n",
        "print(informe_clasificacion)"
      ]
    }
  ],
  "metadata": {
    "colab": {
      "provenance": [],
      "include_colab_link": true
    },
    "kernelspec": {
      "display_name": "Python 3",
      "name": "python3"
    },
    "language_info": {
      "codemirror_mode": {
        "name": "ipython",
        "version": 3
      },
      "file_extension": ".py",
      "mimetype": "text/x-python",
      "name": "python",
      "nbconvert_exporter": "python",
      "pygments_lexer": "ipython3",
      "version": "3.11.5"
    }
  },
  "nbformat": 4,
  "nbformat_minor": 0
}